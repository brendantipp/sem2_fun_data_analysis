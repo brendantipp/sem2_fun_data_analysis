{
 "cells": [
  {
   "cell_type": "markdown",
   "metadata": {},
   "source": [
    "## Tasks 2020 - Fundamentals of Data Analysis\n",
    "#### Semester 2 GMIT - Brendan Ryan"
   ]
  },
  {
   "cell_type": "markdown",
   "metadata": {},
   "source": [
    "## Task 1 \n",
    "Within the Jupyter notebook write a python function called counts that takes a list as an input and returns a dictionary of unique items in the last as keys and the number of times each item appears as values.\n",
    "\n",
    "##### Note only built in libraries can be used - no imports\n",
    "\n",
    "#### References and Research\n",
    "- range and len with for loop per research link ttps://medium.com/swlh/create-a-dictionary-from-a-list-65742246ab4b\n",
    "- Reference https://www.geeksforgeeks.org/python-ways-to-create-a-dictionary-of-lists/\n",
    "- Understanding Dictionaires in Python https://www.w3schools.com/python/python_dictionaries.asp"
   ]
  },
  {
   "cell_type": "code",
   "execution_count": 1,
   "metadata": {},
   "outputs": [],
   "source": [
    "# create the required list\n",
    "list = ['A', 'A','B', 'C','A']"
   ]
  },
  {
   "cell_type": "code",
   "execution_count": 2,
   "metadata": {},
   "outputs": [],
   "source": [
    "# create an empty dictionary\n",
    "dict = {}"
   ]
  },
  {
   "cell_type": "code",
   "execution_count": 3,
   "metadata": {
    "scrolled": true
   },
   "outputs": [
    {
     "name": "stdout",
     "output_type": "stream",
     "text": [
      "{'A': 3, 'B': 1, 'C': 1}\n"
     ]
    }
   ],
   "source": [
    "# create a for loop to count result and return as a dict\n",
    "# range and len for loop per research link ttps://medium.com/swlh/create-a-dictionary-from-a-list-65742246ab4b\n",
    "# reference https://www.geeksforgeeks.org/python-ways-to-create-a-dictionary-of-lists/\n",
    "# dictionary key being the item found and the value the count of same \n",
    "# wrap code in function counts()\n",
    "\n",
    "def counts(list):\n",
    "\n",
    "    for l in range(len(list)):\n",
    "        dict[list[l]] = list.count(list[l])\n",
    "    print (dict)\n",
    "    \n",
    "counts(list)"
   ]
  },
  {
   "cell_type": "code",
   "execution_count": 4,
   "metadata": {},
   "outputs": [
    {
     "name": "stdout",
     "output_type": "stream",
     "text": [
      "['A', 'B', 'C']\n"
     ]
    }
   ],
   "source": [
    "#test sorting of dictionary - to investiage results no value\n",
    "print (sorted(dict))"
   ]
  },
  {
   "cell_type": "markdown",
   "metadata": {},
   "source": [
    "## Task 2 \n",
    "Dicerolls function"
   ]
  }
 ],
 "metadata": {
  "kernelspec": {
   "display_name": "Python 3",
   "language": "python",
   "name": "python3"
  },
  "language_info": {
   "codemirror_mode": {
    "name": "ipython",
    "version": 3
   },
   "file_extension": ".py",
   "mimetype": "text/x-python",
   "name": "python",
   "nbconvert_exporter": "python",
   "pygments_lexer": "ipython3",
   "version": "3.8.3"
  }
 },
 "nbformat": 4,
 "nbformat_minor": 2
}
