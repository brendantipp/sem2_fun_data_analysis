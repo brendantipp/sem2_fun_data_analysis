{
 "cells": [
  {
   "cell_type": "markdown",
   "metadata": {},
   "source": [
    "## Tasks 2020 - Fundamentals of Data Analysis\n",
    "#### Semester 2 GMIT - Brendan Ryan"
   ]
  },
  {
   "cell_type": "markdown",
   "metadata": {},
   "source": [
    "## Task 1 \n",
    "\n",
    "### Counts Function\n",
    "Within the Jupyter notebook write a python function called counts that takes a list as an input and returns a dictionary of unique items in the last as keys and the number of times each item appears as values.\n",
    "\n",
    "##### Note only built in libraries can be used - no imports\n",
    "\n",
    "#### References and Research\n",
    "- Range and len with for loop per research link https://medium.com/swlh/create-a-dictionary-from-a-list-65742246ab4b\n",
    "- Reference https://www.geeksforgeeks.org/python-ways-to-create-a-dictionary-of-lists/\n",
    "- Understanding Dictionaires in Python https://www.w3schools.com/python/python_dictionaries.asp"
   ]
  },
  {
   "cell_type": "markdown",
   "metadata": {},
   "source": [
    "Firstly i will create my list and an empty dictionary which will be populated"
   ]
  },
  {
   "cell_type": "code",
   "execution_count": 1,
   "metadata": {},
   "outputs": [],
   "source": [
    "# create the required list\n",
    "list = ['B', 'A','B', 'C','A']"
   ]
  },
  {
   "cell_type": "code",
   "execution_count": 2,
   "metadata": {},
   "outputs": [],
   "source": [
    "# create an empty dictionary\n",
    "dict = {}"
   ]
  },
  {
   "cell_type": "markdown",
   "metadata": {},
   "source": [
    "The create my fucntion, I am using a for loop to iterate through the range which is defined as the lenght of list"
   ]
  },
  {
   "cell_type": "code",
   "execution_count": 3,
   "metadata": {
    "scrolled": true
   },
   "outputs": [
    {
     "name": "stdout",
     "output_type": "stream",
     "text": [
      "{'B': 2, 'A': 2, 'C': 1}\n"
     ]
    }
   ],
   "source": [
    "# create a for loop to count result and return as a dict\n",
    "# range and len for loop per research link ttps://medium.com/swlh/create-a-dictionary-from-a-list-65742246ab4b\n",
    "# reference https://www.geeksforgeeks.org/python-ways-to-create-a-dictionary-of-lists/\n",
    "# dictionary key being the item found and the value the count of same \n",
    "# wrap code in function counts()\n",
    "\n",
    "def counts(list):\n",
    "\n",
    "    for l in range(len(list)):\n",
    "        dict[list[l]] = list.count(list[l])\n",
    "    print (dict)\n",
    "    \n",
    "counts(list)"
   ]
  },
  {
   "cell_type": "code",
   "execution_count": 4,
   "metadata": {},
   "outputs": [
    {
     "name": "stdout",
     "output_type": "stream",
     "text": [
      "['A', 'B', 'C']\n"
     ]
    }
   ],
   "source": [
    "#test sorting of dictionary - to investiage results no value\n",
    "print (sorted(dict))"
   ]
  },
  {
   "cell_type": "markdown",
   "metadata": {},
   "source": [
    "## Task 2 \n",
    "\n",
    "#### Dice Rolls function\n",
    "\n",
    "Write a Python function called dicerolls that simulates rolling dice.  Your function should take two parameters:  the number of dice and the number of times to roll the dice.  The function should simulate randomly rolling \"k\" dice \"n\" times, keeping track of each total face value.  It should then return a dictionary with the number of times each possible total face value occurred.  \n",
    "\n",
    "So,calling the function as diceroll(k=2, n=1000) should return a dictionary like:{2:19,3:50,4:82,5:112,6:135,7:174,8:133,9:114,10:75,11:70,12:36}\n",
    "\n",
    "You can use any module from the Python standard library you wish and you shouldinclude a description with references of your algorithm in the notebook.\n",
    "\n",
    "Task Plan in Readme file in repository.\n"
   ]
  },
  {
   "cell_type": "markdown",
   "metadata": {},
   "source": [
    "To begin with i am importing the  random moduel which is available from the standard library\n",
    "note numpy could also be used but not part of standard libarary as required in task"
   ]
  },
  {
   "cell_type": "code",
   "execution_count": 5,
   "metadata": {},
   "outputs": [],
   "source": [
    "#import the random standard library\n",
    "#note numpy could also be used but not part of standard libarary as required in task\n",
    "import random"
   ]
  },
  {
   "cell_type": "markdown",
   "metadata": {},
   "source": [
    "Next to create my empty list, i also use the following built in python method dict.clear() to clear any contents from the previuos dictionary - https://www.askpython.com/python/dictionary/delete-a-dictionary-in-python"
   ]
  },
  {
   "cell_type": "code",
   "execution_count": 6,
   "metadata": {},
   "outputs": [],
   "source": [
    "#my empty list for the score from each throw\n",
    "score = []\n",
    "dict.clear()"
   ]
  },
  {
   "cell_type": "markdown",
   "metadata": {},
   "source": [
    "Now to create my fucntion dicerolls. I am goin to use a for loop.\n",
    "I will use the random.ranint to selct a random integer bewtween the lowest and max number possible from the number of throws"
   ]
  },
  {
   "cell_type": "code",
   "execution_count": 7,
   "metadata": {},
   "outputs": [],
   "source": [
    "#define my function n being number of dice n and k being number of times rolled\n",
    "\n",
    "def dicerolls(n,k):\n",
    "       \n",
    "    #create for loop while in the range of k number of rolls\n",
    "    for i in range (0,k):\n",
    "        \n",
    "        #define the max score as number of dice \"n\" by number of sides of a dice\n",
    "        max = n * 6  \n",
    "        \n",
    "        #pick a random number between 2 and the max score\n",
    "        #https://www.geeksforgeeks.org/python-randint-function/\n",
    "        value_thrown = random.randint(2,max)\n",
    "        \n",
    "        #iterate through loop appending each value to the list \"score\"\n",
    "        score.append(value_thrown)\n",
    "    \n",
    "    #use the counts function created above to count the scores and return in a dictionary    \n",
    "    return counts(score) \n"
   ]
  },
  {
   "cell_type": "markdown",
   "metadata": {},
   "source": [
    "Now to run my new fuction, using 2 dice  and number of times 1000"
   ]
  },
  {
   "cell_type": "code",
   "execution_count": 8,
   "metadata": {},
   "outputs": [
    {
     "name": "stdout",
     "output_type": "stream",
     "text": [
      "{5: 93, 6: 98, 2: 95, 11: 102, 8: 91, 12: 89, 9: 90, 7: 94, 4: 80, 3: 83, 10: 85}\n"
     ]
    }
   ],
   "source": [
    "dicerolls (2,1000)"
   ]
  },
  {
   "cell_type": "markdown",
   "metadata": {},
   "source": [
    "My function returns how many times the value of each dice throw happened for 1,000 attempts"
   ]
  },
  {
   "cell_type": "markdown",
   "metadata": {},
   "source": [
    "## Task 3 - Coin toss"
   ]
  },
  {
   "cell_type": "markdown",
   "metadata": {},
   "source": [
    "Flipping a Coin function using numpy.random.binomial"
   ]
  },
  {
   "cell_type": "markdown",
   "metadata": {},
   "source": [
    "Lets bring in the required packages\n"
   ]
  },
  {
   "cell_type": "code",
   "execution_count": 9,
   "metadata": {},
   "outputs": [],
   "source": [
    "#we can import the numpy module as follows using np to give a shortened name to the package for ease of use\n",
    "import numpy as np\n",
    "import seaborn as sns"
   ]
  },
  {
   "cell_type": "markdown",
   "metadata": {},
   "source": [
    "Initialize np.random.default_rng()\n",
    "\n",
    "Best practice in Numpy v1.19 is to use Random Generator. The Generator provides access to a wide range of distributions, and served as a replacement for RandomState. The function numpy.random.default_rng will instantiate a Generator with numpy’s default BitGenerator as shown below. reference - https://numpy.org/devdocs/reference/random/generator.html#numpy.random.default_rng\n"
   ]
  },
  {
   "cell_type": "code",
   "execution_count": 10,
   "metadata": {},
   "outputs": [],
   "source": [
    "# The function numpy.random.default_rng will instantiate a Generator with numpy’s default BitGenerator.\n",
    "rng = np.random.default_rng()"
   ]
  },
  {
   "cell_type": "markdown",
   "metadata": {},
   "source": [
    "First lets run the to simualte the tossing th coin 10 times and then repeat ths test 1,000 times"
   ]
  },
  {
   "cell_type": "code",
   "execution_count": 11,
   "metadata": {},
   "outputs": [],
   "source": [
    "np.random.seed(27)# set our seed to get same random number\n",
    "n = 100 #number of tosses\n",
    "p = .5 #set the proability"
   ]
  },
  {
   "cell_type": "code",
   "execution_count": 12,
   "metadata": {},
   "outputs": [
    {
     "data": {
      "text/plain": [
       "63"
      ]
     },
     "execution_count": 12,
     "metadata": {},
     "output_type": "execute_result"
    }
   ],
   "source": [
    "#use the binomial function from numpy.random defined as rng above to toss a coin 100 times\n",
    "x = rng.binomial(n=100, p=0.5)\n",
    "x"
   ]
  },
  {
   "cell_type": "markdown",
   "metadata": {},
   "source": [
    "Now to repeat our test 1,000 times"
   ]
  },
  {
   "cell_type": "code",
   "execution_count": 13,
   "metadata": {},
   "outputs": [],
   "source": [
    "size = 1000\n",
    "x = rng.binomial(n=100, p=0.5, size = size)\n",
    "#x"
   ]
  },
  {
   "cell_type": "markdown",
   "metadata": {},
   "source": [
    "Import my plotting libraries Matplotlib and Seaborn"
   ]
  },
  {
   "cell_type": "code",
   "execution_count": 14,
   "metadata": {},
   "outputs": [],
   "source": [
    "# import the matplotlib library and display the graph\n",
    "%matplotlib inline\n",
    "import matplotlib.pyplot as plt\n",
    "import seaborn as sns"
   ]
  },
  {
   "cell_type": "markdown",
   "metadata": {},
   "source": [
    "Create my plot"
   ]
  },
  {
   "cell_type": "code",
   "execution_count": 15,
   "metadata": {},
   "outputs": [
    {
     "data": {
      "image/png": "[encoded data removed]",
      "text/plain": [
       "<Figure size 432x288 with 1 Axes>"
      ]
     },
     "metadata": {
      "needs_background": "light"
     },
     "output_type": "display_data"
    }
   ],
   "source": [
    "#setting my title\n",
    "plt.title(\"Coin Toss Task\")\n",
    "#im going to plot using a seaborn distplot not showing as a histogram\n",
    "plt.xlabel(\"Number of Heads\")\n",
    "sns.distplot(x, hist = False);\n",
    "#show the plot\n",
    "plt.show()"
   ]
  },
  {
   "cell_type": "markdown",
   "metadata": {},
   "source": [
    "## Task 4 - Simpson’s paradox"
   ]
  },
  {
   "cell_type": "markdown",
   "metadata": {},
   "source": [
    "### Introduction"
   ]
  },
  {
   "cell_type": "markdown",
   "metadata": {},
   "source": [
    "Simpson's paradox, which also goes by several other names, is a phenomenon in probability and statistics, in which a trend appears in several different groups of data but disappears or reverses when these groups are combined. - ref https://en.wikipedia.org/wiki/Simpson%27s_paradox"
   ]
  },
  {
   "cell_type": "markdown",
   "metadata": {},
   "source": [
    "I am going to \"atttempt \" to recreate the paradox as per the example. \n",
    "\n",
    "Batting averages is common example of Simpson's paradox involves the batting averages of players in professional baseball. It is possible for one player to have a higher batting average than another player each year for a number of years, but to have a lower batting average across all of those years. This phenomenon can occur when there are large differences in the number of at bats between the years. \n",
    "\n",
    "Mathematician Ken Ross[18] demonstrated this using the batting average of two baseball players, Derek Jeter and David Justice, during the years 1995 and 1996\n",
    "\n",
    "In my example below i will use two generic Batters BatterA and Batter B and display their batting averages over two years Year 1 and Year 2"
   ]
  },
  {
   "cell_type": "markdown",
   "metadata": {},
   "source": [
    "## Import my required libriaries"
   ]
  },
  {
   "cell_type": "code",
   "execution_count": 16,
   "metadata": {},
   "outputs": [],
   "source": [
    "#import my required libraries i think i need..\n",
    "import pandas as pd #pandas\n",
    "import numpy as np #numpy - i have already loaded this but for best practice loading again\n",
    "import matplotlib.pyplot as plt #matplotlib plotting library"
   ]
  },
  {
   "cell_type": "markdown",
   "metadata": {},
   "source": [
    "Create my starting points which will be two dataset arrays created at random usingthe numpy linspace function - at this point i beleive i will need both x and y arrays as starting points, going to create two arrys of 20 datapoints between 1 and 100 .. re look at later "
   ]
  },
  {
   "cell_type": "code",
   "execution_count": 69,
   "metadata": {},
   "outputs": [],
   "source": [
    "#create my two random arrays for x and y using numpy linspace function\n",
    "a = random.randint(1,10)\n",
    "b = random.randint(1,10)\n",
    "n = 4 #number of datasets if needed"
   ]
  },
  {
   "cell_type": "code",
   "execution_count": 18,
   "metadata": {},
   "outputs": [
    {
     "data": {
      "text/plain": [
       "(4, 8)"
      ]
     },
     "execution_count": 18,
     "metadata": {},
     "output_type": "execute_result"
    }
   ],
   "source": [
    "a,b"
   ]
  },
  {
   "cell_type": "markdown",
   "metadata": {},
   "source": [
    "Create my sample Batting Statistics using Numpy.Randoms rand int to pick a random sample of Strikes made per game over 15 games which i have set as the size of the array to be generated"
   ]
  },
  {
   "cell_type": "code",
   "execution_count": 78,
   "metadata": {},
   "outputs": [],
   "source": [
    "brendan = pd.DataFrame({\"strikes\": np.random.randint(1,20, size=(15))})\n",
    "#brendan"
   ]
  },
  {
   "cell_type": "markdown",
   "metadata": {},
   "source": [
    "Above will create a dataset with 15 values with a random number between 1 and 20 not including 20"
   ]
  },
  {
   "cell_type": "markdown",
   "metadata": {},
   "source": [
    "Create Brendan Year 2 status based on above and the formula \"place here \""
   ]
  },
  {
   "cell_type": "code",
   "execution_count": 20,
   "metadata": {},
   "outputs": [],
   "source": [
    "brendan[\"balls\"] = a * brendan[\"strikes\"] + b\n",
    "brendan[\"average\"] = brendan[\"strikes\"] / brendan[\"balls\"]"
   ]
  },
  {
   "cell_type": "code",
   "execution_count": 68,
   "metadata": {},
   "outputs": [
    {
     "data": {
      "text/plain": [
       "strikes    11.333333\n",
       "balls      53.333333\n",
       "average     0.196548\n",
       "dtype: float64"
      ]
     },
     "execution_count": 68,
     "metadata": {},
     "output_type": "execute_result"
    },
    {
     "data": {
      "image/png": "[encoded data removed]",
      "text/plain": [
       "<Figure size 432x288 with 1 Axes>"
      ]
     },
     "metadata": {
      "needs_background": "light"
     },
     "output_type": "display_data"
    }
   ],
   "source": [
    "\n",
    "brendan.plot(x ='balls', y='strikes', kind = 'line');\n",
    "brendan.mean()"
   ]
  },
  {
   "cell_type": "markdown",
   "metadata": {},
   "source": [
    "Create Christines Batting Statistics for Year 2 which is my x value"
   ]
  },
  {
   "cell_type": "code",
   "execution_count": 22,
   "metadata": {},
   "outputs": [],
   "source": [
    "christine = pd.DataFrame({\"balls\": np.random.randint(30, size =15)})"
   ]
  },
  {
   "cell_type": "markdown",
   "metadata": {},
   "source": [
    "Create Christines Batting Statistics for Year 2 which is my Y value"
   ]
  },
  {
   "cell_type": "code",
   "execution_count": 23,
   "metadata": {},
   "outputs": [],
   "source": [
    "christine[\"strikes\"] = a * christine[\"balls\"] + b\n",
    "christine[\"average\"] = christine[\"balls\"] / christine[\"strikes\"]"
   ]
  },
  {
   "cell_type": "code",
   "execution_count": 48,
   "metadata": {},
   "outputs": [
    {
     "data": {
      "image/png": "[encoded data removed]",
      "text/plain": [
       "<Figure size 432x288 with 1 Axes>"
      ]
     },
     "metadata": {
      "needs_background": "light"
     },
     "output_type": "display_data"
    }
   ],
   "source": [
    "christine\n",
    "christine.plot(x ='balls', y='strikes', kind = 'line');"
   ]
  },
  {
   "cell_type": "code",
   "execution_count": 54,
   "metadata": {},
   "outputs": [],
   "source": [
    "brendan['Batter'] = 'Brendan'\n",
    "christine['Batter'] = 'Christine'\n",
    "statistics= pd.concat([brendan, christine])"
   ]
  },
  {
   "cell_type": "code",
   "execution_count": 76,
   "metadata": {},
   "outputs": [
    {
     "data": {
      "text/html": [
       "<div>\n",
       "<style scoped>\n",
       "    .dataframe tbody tr th:only-of-type {\n",
       "        vertical-align: middle;\n",
       "    }\n",
       "\n",
       "    .dataframe tbody tr th {\n",
       "        vertical-align: top;\n",
       "    }\n",
       "\n",
       "    .dataframe thead th {\n",
       "        text-align: right;\n",
       "    }\n",
       "</style>\n",
       "<table border=\"1\" class=\"dataframe\">\n",
       "  <thead>\n",
       "    <tr style=\"text-align: right;\">\n",
       "      <th></th>\n",
       "      <th>strikes</th>\n",
       "      <th>balls</th>\n",
       "      <th>average</th>\n",
       "    </tr>\n",
       "    <tr>\n",
       "      <th>Batter</th>\n",
       "      <th></th>\n",
       "      <th></th>\n",
       "      <th></th>\n",
       "    </tr>\n",
       "  </thead>\n",
       "  <tbody>\n",
       "    <tr>\n",
       "      <th>Brendan</th>\n",
       "      <td>11.333333</td>\n",
       "      <td>53.333333</td>\n",
       "      <td>0.196548</td>\n",
       "    </tr>\n",
       "    <tr>\n",
       "      <th>Christine</th>\n",
       "      <td>72.533333</td>\n",
       "      <td>16.133333</td>\n",
       "      <td>0.197363</td>\n",
       "    </tr>\n",
       "  </tbody>\n",
       "</table>\n",
       "</div>"
      ],
      "text/plain": [
       "             strikes      balls   average\n",
       "Batter                                   \n",
       "Brendan    11.333333  53.333333  0.196548\n",
       "Christine  72.533333  16.133333  0.197363"
      ]
     },
     "execution_count": 76,
     "metadata": {},
     "output_type": "execute_result"
    }
   ],
   "source": [
    "#statistics\n",
    "statistics.groupby([\"Batter\"]).mean()\n"
   ]
  },
  {
   "cell_type": "code",
   "execution_count": 82,
   "metadata": {},
   "outputs": [
    {
     "data": {
      "image/png": "[encoded data removed]",
      "text/plain": [
       "<Figure size 360x360 with 1 Axes>"
      ]
     },
     "metadata": {
      "needs_background": "light"
     },
     "output_type": "display_data"
    }
   ],
   "source": [
    "sns.lmplot(x='strikes', y='average', data=Statistics);"
   ]
  },
  {
   "cell_type": "markdown",
   "metadata": {},
   "source": [
    "Didnt get the expected result - think i need really need two years to get my results accross"
   ]
  },
  {
   "cell_type": "code",
   "execution_count": null,
   "metadata": {},
   "outputs": [],
   "source": []
  }
 ],
 "metadata": {
  "kernelspec": {
   "display_name": "Python 3",
   "language": "python",
   "name": "python3"
  },
  "language_info": {
   "codemirror_mode": {
    "name": "ipython",
    "version": 3
   },
   "file_extension": ".py",
   "mimetype": "text/x-python",
   "name": "python",
   "nbconvert_exporter": "python",
   "pygments_lexer": "ipython3",
   "version": "3.8.3"
  }
 },
 "nbformat": 4,
 "nbformat_minor": 2
}
